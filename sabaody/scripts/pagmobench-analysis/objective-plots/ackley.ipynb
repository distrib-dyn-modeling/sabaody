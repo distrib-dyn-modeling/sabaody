{
 "cells": [
  {
   "cell_type": "code",
   "execution_count": null,
   "metadata": {
    "collapsed": false,
    "inputHidden": false,
    "outputHidden": false
   },
   "outputs": [],
   "source": [
    "import plotly\n",
    "import plotly.graph_objs as go\n",
    "from plotly.offline import download_plotlyjs, init_notebook_mode, plot, iplot\n",
    "from numpy import zeros, diag, matmul\n",
    "\n",
    "init_notebook_mode(connected=True)\n",
    "\n",
    "from pygmo import problem, ackley\n",
    "p = problem(ackley(2))\n",
    "bounds_min,bounds_max = p.get_bounds()\n",
    "\n",
    "N = 50\n",
    "z = zeros((50,50))\n",
    "for j in range(N):\n",
    "    for k in range(N):\n",
    "        alpha_j = float(j)/float(N)\n",
    "        alpha_k = float(k)/float(N)\n",
    "        z[j,k] = -float(p.fitness(bounds_min + matmul(diag((alpha_j,alpha_k)),(bounds_max-bounds_min)))[0])\n",
    "\n",
    "data = [\n",
    "    go.Surface(\n",
    "        z=z\n",
    "    )\n",
    "]\n",
    "layout = go.Layout(\n",
    "    title='Ackley',\n",
    "    autosize=False,\n",
    "    width=500,\n",
    "    height=500,\n",
    "    margin=dict(\n",
    "        l=65,\n",
    "        r=50,\n",
    "        b=65,\n",
    "        t=90\n",
    "    )\n",
    ")\n",
    "fig = go.Figure(data=data, layout=layout)\n",
    "plotly.offline.iplot(fig, filename='ackley', config={'toImageButtonOptions':{'width':2000,'height':2000}})\n",
    "print(plotly.__version__)"
   ]
  },
  {
   "cell_type": "code",
   "execution_count": null,
   "metadata": {
    "collapsed": true
   },
   "outputs": [],
   "source": []
  }
 ],
 "metadata": {
  "kernel_info": {
   "name": "python3"
  },
  "kernelspec": {
   "display_name": "Python 3",
   "language": "python",
   "name": "python3"
  },
  "language_info": {
   "codemirror_mode": {
    "name": "ipython",
    "version": 3
   },
   "file_extension": ".py",
   "mimetype": "text/x-python",
   "name": "python",
   "nbconvert_exporter": "python",
   "pygments_lexer": "ipython3",
   "version": "3.6.3"
  }
 },
 "nbformat": 4,
 "nbformat_minor": 4
}
