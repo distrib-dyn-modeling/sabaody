{
 "cells": [
  {
   "cell_type": "code",
   "execution_count": null,
   "metadata": {
    "collapsed": false,
    "inputHidden": false,
    "outputHidden": false
   },
   "outputs": [],
   "source": [
    "import plotly\n",
    "import plotly.graph_objs as go\n",
    "from plotly.offline import download_plotlyjs, init_notebook_mode, plot, iplot\n",
    "from numpy import zeros, diag, matmul\n",
    "\n",
    "init_notebook_mode(connected=True)\n",
    "\n",
    "from pygmo import problem, schwefel\n",
    "p = problem(schwefel(2))\n",
    "bounds_min,bounds_max = p.get_bounds()\n",
    "\n",
    "N = 500\n",
    "x = zeros((N,))\n",
    "y = zeros((N,))\n",
    "z = zeros((N,N))\n",
    "for j in range(N):\n",
    "    for k in range(N):\n",
    "        alpha_j = float(j)/float(N)\n",
    "        alpha_k = float(k)/float(N)\n",
    "        coord = bounds_min + matmul(diag((alpha_j,alpha_k)),(bounds_max-bounds_min))\n",
    "        x[j] = coord[0]\n",
    "        y[k] = coord[1]\n",
    "        z[j,k] = -float(p.fitness(coord)[0])\n",
    "\n",
    "data = [\n",
    "    go.Surface(\n",
    "        x=x,\n",
    "        y=y,\n",
    "        z=z,\n",
    "    )\n",
    "]\n",
    "layout = go.Layout(\n",
    "    title='Schwefel',\n",
    "    autosize=True,\n",
    "    font=dict(size=60),\n",
    "    width=800,\n",
    "    height=560,\n",
    "    scene = dict(\n",
    "        xaxis = dict(\n",
    "            title='',\n",
    "            nticks=2,\n",
    "            tickvals=[float(bounds_min[0]),float(bounds_max[0])],\n",
    "            tickfont=dict(size=20),\n",
    "        ),\n",
    "        yaxis = dict(\n",
    "            title='',\n",
    "            nticks=2,\n",
    "            tickvals=[float(bounds_min[1]),float(bounds_max[1])],\n",
    "            tickfont=dict(size=20),\n",
    "        ),\n",
    "        aspectratio=dict(x=1.,y=1.,z=0.5),\n",
    "        zaxis = dict(\n",
    "            title='',\n",
    "            nticks=2, \n",
    "            tickfont=dict(size=20),\n",
    "        ),\n",
    "    ),\n",
    ")\n",
    "\n",
    "config = {'toImageButtonOptions':\n",
    "          {'width': 2000,\n",
    "           'height': 1400,\n",
    "           'format': 'png',\n",
    "           'filename': 'schwefel'}}\n",
    "\n",
    "fig = go.Figure(data=data, layout=layout)\n",
    "plotly.offline.iplot(fig, config=config)"
   ]
  },
  {
   "cell_type": "code",
   "execution_count": null,
   "metadata": {
    "collapsed": true
   },
   "outputs": [],
   "source": []
  }
 ],
 "metadata": {
  "kernel_info": {
   "name": "python3"
  },
  "kernelspec": {
   "display_name": "Python 3.6.5",
   "language": "python",
   "name": "python3.6.5"
  },
  "language_info": {
   "codemirror_mode": {
    "name": "ipython",
    "version": 3
   },
   "file_extension": ".py",
   "mimetype": "text/x-python",
   "name": "python",
   "nbconvert_exporter": "python",
   "pygments_lexer": "ipython3",
   "version": "3.6.5"
  }
 },
 "nbformat": 4,
 "nbformat_minor": 4
}
