{
  "cells": [
    {
      "cell_type": "markdown",
      "source": [
        "# B2 again"
      ],
      "metadata": {}
    },
    {
      "cell_type": "code",
      "source": [
        "# Sabaody\n",
        "# Copyright 2018 Shaik Asifullah and J Kyle Medley\n",
        "\n",
        "import arrow\n",
        "from influxdb import InfluxDBClient\n",
        "\n",
        "from numpy import array, log\n",
        "\n",
        "from pprint import pprint\n",
        "from ast import literal_eval\n",
        "\n",
        "client = InfluxDBClient('luna')\n",
        "tstart = None\n",
        "results = client.query('SELECT island_id,best_f,best_x FROM champion', database='com.how2cell.sabaody.biopredyn.b2-driver.1e0b7437-9d41-452c-b108-9c924ea9dbc6')\n",
        "# pprint(results)\n",
        "for result in results:\n",
        "    for point in result:\n",
        "        t = arrow.get(point['time'])\n",
        "        if tstart == None or t < tstart:\n",
        "            tstart = t\n",
        "timepoints_by_island = {}\n",
        "min_f = None\n",
        "best_x = None\n",
        "island_ids = set()\n",
        "for result in results:\n",
        "    for point in result:\n",
        "        t = arrow.get(point['time'])-tstart\n",
        "        island_id = point['island_id']\n",
        "        if not island_id in island_ids:\n",
        "            island_ids.add(island_id)\n",
        "        best_f = literal_eval(point['best_f'])[0]\n",
        "        if min_f is None or best_f < min_f:\n",
        "            min_f = best_f\n",
        "            best_x = literal_eval(point['best_x'])\n",
        "        timepoints_by_island.setdefault(island_id, []).append((t.seconds,best_f))\n",
        "        # print(t.seconds,island_id,best_f)\n",
        "print(island_ids)\n",
        "print(len(island_ids))\n",
        "\n",
        "import tellurium as te\n",
        "for island_id,series in timepoints_by_island.items():\n",
        "    trace = array(sorted(series, key=lambda t: t[0]))\n",
        "    te.plot(trace[:,0]/3600., trace[:,1], tag='first', logy=True, show=False)\n",
        "\n",
        "print('first min obj',min_f)\n",
        "# print(best_x)"
      ],
      "outputs": [],
      "execution_count": 78,
      "metadata": {
        "collapsed": false,
        "outputHidden": false,
        "inputHidden": false
      }
    },
    {
      "cell_type": "code",
      "source": [
        "client = InfluxDBClient('luna')\n",
        "tstart = None\n",
        "results = client.query('SELECT island_id,best_f,best_x FROM champion', database='com.how2cell.sabaody.biopredyn.b2-driver.3ab32af5-6d4f-4afe-bd71-cc42c5c753f2')\n",
        "# pprint(results)\n",
        "for result in results:\n",
        "    for point in result:\n",
        "        t = arrow.get(point['time'])\n",
        "        if tstart == None or t < tstart:\n",
        "            tstart = t\n",
        "timepoints_by_island = {}\n",
        "min_f = None\n",
        "best_x = None\n",
        "island_ids = set()\n",
        "for result in results:\n",
        "    for point in result:\n",
        "        t = arrow.get(point['time'])-tstart\n",
        "        island_id = point['island_id']\n",
        "        if not island_id in island_ids:\n",
        "            island_ids.add(island_id)\n",
        "        best_f = literal_eval(point['best_f'])[0]\n",
        "        if min_f is None or best_f < min_f:\n",
        "            min_f = best_f\n",
        "            best_x = literal_eval(point['best_x'])\n",
        "        timepoints_by_island.setdefault(island_id, []).append((t.seconds,best_f))\n",
        "        # print(t.seconds,island_id,best_f)\n",
        "print(island_ids)\n",
        "print(len(island_ids))\n",
        "        \n",
        "import tellurium as te\n",
        "for island_id,series in timepoints_by_island.items():\n",
        "    trace = array(sorted(series, key=lambda t: t[0]))\n",
        "    te.plot(trace[:,0]/3600., trace[:,1], tag='second', logy=True, show=False)\n",
        "\n",
        "print('second min obj',min_f)\n",
        "# print(best_x)"
      ],
      "outputs": [],
      "execution_count": 79,
      "metadata": {
        "collapsed": false,
        "outputHidden": false,
        "inputHidden": false
      }
    },
    {
      "cell_type": "code",
      "source": [
        "te.show()"
      ],
      "outputs": [],
      "execution_count": 80,
      "metadata": {
        "collapsed": false,
        "outputHidden": false,
        "inputHidden": false
      }
    }
  ],
  "metadata": {
    "kernelspec": {
      "name": "python3",
      "language": "python",
      "display_name": "Python 3 (built-in)"
    },
    "kernel_info": {
      "name": "python3"
    },
    "language_info": {
      "name": "python",
      "version": "3.6.3",
      "mimetype": "text/x-python",
      "codemirror_mode": {
        "name": "ipython",
        "version": 3
      },
      "pygments_lexer": "ipython3",
      "nbconvert_exporter": "python",
      "file_extension": ".py"
    }
  },
  "nbformat": 4,
  "nbformat_minor": 4
}