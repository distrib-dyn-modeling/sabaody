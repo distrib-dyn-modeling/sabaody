{
  "cells": [
    {
      "cell_type": "markdown",
      "source": [
        "# B2"
      ],
      "metadata": {}
    },
    {
      "cell_type": "code",
      "source": [
        "# Sabaody\n",
        "# Copyright 2018 Shaik Asifullah and J Kyle Medley\n",
        "\n",
        "import arrow\n",
        "from influxdb import InfluxDBClient\n",
        "\n",
        "from numpy import array\n",
        "\n",
        "from pprint import pprint\n",
        "from ast import literal_eval\n",
        "\n",
        "client = InfluxDBClient('luna')\n",
        "tstart = None\n",
        "results = client.query('SELECT island_id,best_f FROM champion', database='com.how2cell.sabaody.biopredyn.b2-driver.030a95e1-ec24-4daf-b82d-2fd8b08d81f4')\n",
        "# pprint(results)\n",
        "for result in results:\n",
        "    for point in result:\n",
        "        t = arrow.get(point['time'])\n",
        "        if tstart == None or t < tstart:\n",
        "            tstart = t\n",
        "timepoints_by_island = {}\n",
        "for result in results:\n",
        "    for point in result:\n",
        "        t = arrow.get(point['time'])-tstart\n",
        "        island_id = point['island_id']\n",
        "        best_f = literal_eval(point['best_f'])[0]\n",
        "        timepoints_by_island.setdefault(island_id, []).append((t.seconds,best_f))\n",
        "        # print(t.seconds,island_id,best_f)\n",
        "\n",
        "import tellurium as te\n",
        "for island_id,series in timepoints_by_island.items():\n",
        "    trace = array(sorted(series, key=lambda t: t[0]))\n",
        "    te.plot(trace[:,0]/3600., trace[:,1], tag=island_id, show=False)\n",
        "te.show()\n"
      ],
      "outputs": [],
      "execution_count": 1,
      "metadata": {
        "collapsed": false,
        "outputHidden": false,
        "inputHidden": false
      }
    }
  ],
  "metadata": {
    "kernelspec": {
      "name": "python3",
      "language": "python",
      "display_name": "Python 3 (built-in)"
    },
    "kernel_info": {
      "name": "python3"
    },
    "language_info": {
      "name": "python",
      "version": "3.6.3",
      "mimetype": "text/x-python",
      "codemirror_mode": {
        "name": "ipython",
        "version": 3
      },
      "pygments_lexer": "ipython3",
      "nbconvert_exporter": "python",
      "file_extension": ".py"
    }
  },
  "nbformat": 4,
  "nbformat_minor": 4
}