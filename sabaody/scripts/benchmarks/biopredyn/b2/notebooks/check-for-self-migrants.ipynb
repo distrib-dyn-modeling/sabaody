{
  "cells": [
    {
      "cell_type": "markdown",
      "source": [
        "# Check for migrant deltas\n",
        "\nChecks whether the island is receiving migrants."
      ],
      "metadata": {}
    },
    {
      "cell_type": "code",
      "source": [
        "import arrow\n",
        "from influxdb import InfluxDBClient\n",
        "\n",
        "from numpy import array\n",
        "import math\n",
        "\n",
        "from pprint import pprint\n",
        "from ast import literal_eval\n",
        "\n",
        "client = InfluxDBClient('luna')\n",
        "tstart = None\n",
        "results = client.query('SELECT src_id,abs_delta FROM delta', database='com.how2cell.sabaody.biopredyn.b2-driver.ec4de9bf-4dcd-4cb5-88e6-eba59e68ef26')\n",
        "# pprint(results)\n",
        "for result in results:\n",
        "    for point in result:\n",
        "        t = arrow.get(point['time'])\n",
        "        if tstart == None or t < tstart:\n",
        "            tstart = t\n",
        "timepoints_by_island = {}\n",
        "min_f = None\n",
        "best_x = None\n",
        "island_ids = set()\n",
        "for result in results:\n",
        "    for point in result:\n",
        "        t = arrow.get(point['time'])-tstart\n",
        "\n",
        "from pprint import pprint\n",
        "pprint(results)"
      ],
      "outputs": [],
      "execution_count": 11,
      "metadata": {
        "collapsed": false,
        "outputHidden": false,
        "inputHidden": false
      }
    }
  ],
  "metadata": {
    "kernelspec": {
      "name": "python3",
      "language": "python",
      "display_name": "Python 3 (built-in)"
    },
    "kernel_info": {
      "name": "python3"
    },
    "language_info": {
      "name": "python",
      "version": "3.6.3",
      "mimetype": "text/x-python",
      "codemirror_mode": {
        "name": "ipython",
        "version": 3
      },
      "pygments_lexer": "ipython3",
      "nbconvert_exporter": "python",
      "file_extension": ".py"
    }
  },
  "nbformat": 4,
  "nbformat_minor": 4
}