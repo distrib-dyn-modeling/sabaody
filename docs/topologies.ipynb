{
  "cells": [
    {
      "cell_type": "markdown",
      "source": [
        "# Topologies\n",
        "\nSabaody implements all the topologies provided by [PyGMO version 1](http://esa.github.io/pygmo/documentation/topology.html)."
      ],
      "metadata": {}
    },
    {
      "cell_type": "markdown",
      "source": [
        "## One-way Ring\n",
        "\nThis topology is a directed cycle - migrants only flow in one direction around the ring."
      ],
      "metadata": {}
    },
    {
      "cell_type": "code",
      "source": [
        "#import tellurium\n",
        "#from sabaody import TopologyFactory\n",
        "from sabaody.topology import TopologyFactory\n",
        "\n",
        "# dummy problem and algorithm for generated islands\n",
        "class NoProblem:\n",
        "    pass\n",
        "class NoAlgo:\n",
        "    pass\n",
        "\n",
        "# create one way ring topology\n",
        "f = TopologyFactory(NoProblem)\n",
        "one_way_ring = f.createOneWayRing(NoAlgo,6)\n",
        "\n",
        "# draw the topology\n",
        "import networkx as nx\n",
        "nx.draw(one_way_ring, pos=nx.spring_layout(one_way_ring,0.01,random_state=0))\n",
        "import matplotlib\n",
        "matplotlib.pyplot.show()"
      ],
      "outputs": [],
      "execution_count": 1,
      "metadata": {
        "collapsed": false,
        "outputHidden": false,
        "inputHidden": false
      }
    },
    {
      "cell_type": "markdown",
      "source": [
        "## Bidirectional ring\n",
        "\nLike the one-way ring but migrants can flow in either direction."
      ],
      "metadata": {}
    },
    {
      "cell_type": "code",
      "source": [
        "bidir_ring = f.createOneWayRing(NoAlgo,6)\n",
        "nx.draw(bidir_ring, pos=nx.spring_layout(bidir_ring,0.01,random_state=0))\n",
        "matplotlib.pyplot.show()"
      ],
      "outputs": [],
      "execution_count": 2,
      "metadata": {
        "collapsed": false,
        "outputHidden": false,
        "inputHidden": false
      }
    },
    {
      "cell_type": "markdown",
      "source": [
        "## Bidirectional chain\n",
        "\nA simple linear topology."
      ],
      "metadata": {}
    },
    {
      "cell_type": "code",
      "source": [
        "bidir_chain = f.createBidirChain(NoAlgo,3)\n",
        "nx.draw(bidir_chain, pos=nx.spring_layout(bidir_chain,0.01,random_state=0))\n",
        "matplotlib.pyplot.show()"
      ],
      "outputs": [],
      "execution_count": 3,
      "metadata": {
        "collapsed": false,
        "outputHidden": false,
        "inputHidden": false
      }
    },
    {
      "cell_type": "markdown",
      "source": [
        "## Lollipop\n",
        "\n",
        "A lollipop is a complete graph connected to a linear chain.\n",
        "\n",
        "<div class=\"alert alert-warning\">\n",
        "\n",
        "**Note:** Appears not to be working.\n",
        "\n</div>"
      ],
      "metadata": {}
    },
    {
      "cell_type": "code",
      "source": [
        "lollipop = f.createLollipop(NoAlgo,complete_subgraph_size=5,chain_size=5)\n",
        "nx.draw(lollipop, pos=nx.spring_layout(lollipop,0.01,random_state=0))\n",
        "matplotlib.pyplot.show()"
      ],
      "outputs": [],
      "execution_count": 4,
      "metadata": {
        "collapsed": false,
        "outputHidden": false,
        "inputHidden": false
      }
    },
    {
      "cell_type": "markdown",
      "source": [
        "## Rim\n",
        "\nA bidirectional cycle with all nodes connected to a single node on the rim."
      ],
      "metadata": {}
    },
    {
      "cell_type": "code",
      "source": [
        "rim = f.createRim(NoAlgo,6)\n",
        "nx.draw(rim, pos=nx.spring_layout(rim,0.05,random_state=0))\n",
        "matplotlib.pyplot.show()"
      ],
      "outputs": [],
      "execution_count": 5,
      "metadata": {
        "collapsed": false,
        "outputHidden": false,
        "inputHidden": false
      }
    },
    {
      "cell_type": "markdown",
      "source": [
        "## 1-2 Ring\n",
        "\n",
        "A bidirectional cycle where each node is also connected to its next-nearest neighbor.\n",
        "\n",
        "<div class=\"alert alert-info\">\n",
        "**Note:** Not present in PyGMO.\n",
        "</div>"
      ],
      "metadata": {}
    },
    {
      "cell_type": "code",
      "source": [
        "ring12 = f.create_12_Ring(NoAlgo,8)\n",
        "nx.draw(ring12, pos=nx.spring_layout(ring12,0.1,random_state=0))\n",
        "matplotlib.pyplot.show()"
      ],
      "outputs": [],
      "execution_count": 8,
      "metadata": {
        "collapsed": false,
        "outputHidden": false,
        "inputHidden": false
      }
    }
  ],
  "metadata": {
    "kernelspec": {
      "name": "python3",
      "language": "python",
      "display_name": "Python 3 (built-in)"
    },
    "kernel_info": {
      "name": "python3"
    },
    "language_info": {
      "name": "python",
      "version": "3.6.3",
      "mimetype": "text/x-python",
      "codemirror_mode": {
        "name": "ipython",
        "version": 3
      },
      "pygments_lexer": "ipython3",
      "nbconvert_exporter": "python",
      "file_extension": ".py"
    }
  },
  "nbformat": 4,
  "nbformat_minor": 4
}