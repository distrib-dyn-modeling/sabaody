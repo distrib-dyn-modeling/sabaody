{
  "cells": [
    {
      "cell_type": "markdown",
      "source": [
        "# Topologies\n",
        "\nSabaody implements all the topologies provided by [PyGMO version 1](http://esa.github.io/pygmo/documentation/topology.html)."
      ],
      "metadata": {}
    },
    {
      "cell_type": "markdown",
      "source": [
        "## One way ring"
      ],
      "metadata": {}
    },
    {
      "cell_type": "code",
      "source": [
        "#import tellurium\n",
        "#from sabaody import TopologyFactory\n",
        "from sabaody.topology import TopologyFactory\n",
        "\n",
        "# dummy problem and algorithm for generated islands\n",
        "class NoProblem:\n",
        "    pass\n",
        "class NoAlgo:\n",
        "    pass\n",
        "\n",
        "# create one way ring topology\n",
        "f = TopologyFactory(NoProblem)\n",
        "one_way_ring = f.createOneWayRing(NoAlgo,6)\n",
        "\n",
        "# draw the topology\n",
        "import networkx as nx\n",
        "nx.draw(one_way_ring, pos=nx.spring_layout(one_way_ring,0.01,random_state=0))\n",
        "import matplotlib\n",
        "matplotlib.pyplot.show()"
      ],
      "outputs": [],
      "execution_count": 1,
      "metadata": {
        "collapsed": false,
        "outputHidden": false,
        "inputHidden": false
      }
    }
  ],
  "metadata": {
    "kernelspec": {
      "name": "python3",
      "language": "python",
      "display_name": "Python 3 (built-in)"
    },
    "kernel_info": {
      "name": "python3"
    },
    "language_info": {
      "name": "python",
      "version": "3.6.3",
      "mimetype": "text/x-python",
      "codemirror_mode": {
        "name": "ipython",
        "version": 3
      },
      "pygments_lexer": "ipython3",
      "nbconvert_exporter": "python",
      "file_extension": ".py"
    }
  },
  "nbformat": 4,
  "nbformat_minor": 4
}